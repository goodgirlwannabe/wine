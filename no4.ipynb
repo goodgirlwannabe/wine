{
 "cells": [
  {
   "attachments": {},
   "cell_type": "markdown",
   "metadata": {},
   "source": [
    "# No 4"
   ]
  },
  {
   "cell_type": "code",
   "execution_count": 2,
   "metadata": {},
   "outputs": [
    {
     "data": {
      "text/html": [
       "<div>\n",
       "<style scoped>\n",
       "    .dataframe tbody tr th:only-of-type {\n",
       "        vertical-align: middle;\n",
       "    }\n",
       "\n",
       "    .dataframe tbody tr th {\n",
       "        vertical-align: top;\n",
       "    }\n",
       "\n",
       "    .dataframe thead th {\n",
       "        text-align: right;\n",
       "    }\n",
       "</style>\n",
       "<table border=\"1\" class=\"dataframe\">\n",
       "  <thead>\n",
       "    <tr style=\"text-align: right;\">\n",
       "      <th></th>\n",
       "      <th>fixed acidity</th>\n",
       "      <th>volatile acidity</th>\n",
       "      <th>citric acid</th>\n",
       "      <th>residual sugar</th>\n",
       "      <th>chlorides</th>\n",
       "      <th>free sulfur dioxide</th>\n",
       "      <th>total sulfur dioxide</th>\n",
       "      <th>density</th>\n",
       "      <th>pH</th>\n",
       "      <th>sulphates</th>\n",
       "      <th>alcohol</th>\n",
       "      <th>quality</th>\n",
       "    </tr>\n",
       "  </thead>\n",
       "  <tbody>\n",
       "    <tr>\n",
       "      <th>0</th>\n",
       "      <td>5.90</td>\n",
       "      <td>0.4451</td>\n",
       "      <td>0.1813</td>\n",
       "      <td>2.049401</td>\n",
       "      <td>0.070574</td>\n",
       "      <td>16.593818</td>\n",
       "      <td>42.27</td>\n",
       "      <td>0.9982</td>\n",
       "      <td>3.27</td>\n",
       "      <td>0.71</td>\n",
       "      <td>8.64</td>\n",
       "      <td>7</td>\n",
       "    </tr>\n",
       "    <tr>\n",
       "      <th>1</th>\n",
       "      <td>8.40</td>\n",
       "      <td>0.5768</td>\n",
       "      <td>0.2099</td>\n",
       "      <td>3.109590</td>\n",
       "      <td>0.101681</td>\n",
       "      <td>22.555519</td>\n",
       "      <td>16.01</td>\n",
       "      <td>0.9960</td>\n",
       "      <td>3.35</td>\n",
       "      <td>0.57</td>\n",
       "      <td>10.03</td>\n",
       "      <td>8</td>\n",
       "    </tr>\n",
       "    <tr>\n",
       "      <th>2</th>\n",
       "      <td>7.54</td>\n",
       "      <td>0.5918</td>\n",
       "      <td>0.3248</td>\n",
       "      <td>3.673744</td>\n",
       "      <td>0.072416</td>\n",
       "      <td>9.316866</td>\n",
       "      <td>35.52</td>\n",
       "      <td>0.9990</td>\n",
       "      <td>3.31</td>\n",
       "      <td>0.64</td>\n",
       "      <td>9.23</td>\n",
       "      <td>8</td>\n",
       "    </tr>\n",
       "    <tr>\n",
       "      <th>3</th>\n",
       "      <td>5.39</td>\n",
       "      <td>0.4201</td>\n",
       "      <td>0.3131</td>\n",
       "      <td>3.371815</td>\n",
       "      <td>0.072755</td>\n",
       "      <td>18.212300</td>\n",
       "      <td>41.97</td>\n",
       "      <td>0.9945</td>\n",
       "      <td>3.34</td>\n",
       "      <td>0.55</td>\n",
       "      <td>14.07</td>\n",
       "      <td>9</td>\n",
       "    </tr>\n",
       "    <tr>\n",
       "      <th>4</th>\n",
       "      <td>6.51</td>\n",
       "      <td>0.5675</td>\n",
       "      <td>0.1940</td>\n",
       "      <td>4.404723</td>\n",
       "      <td>0.066379</td>\n",
       "      <td>9.360591</td>\n",
       "      <td>46.27</td>\n",
       "      <td>0.9925</td>\n",
       "      <td>3.27</td>\n",
       "      <td>0.45</td>\n",
       "      <td>11.49</td>\n",
       "      <td>8</td>\n",
       "    </tr>\n",
       "  </tbody>\n",
       "</table>\n",
       "</div>"
      ],
      "text/plain": [
       "   fixed acidity  volatile acidity  citric acid  residual sugar  chlorides  \\\n",
       "0           5.90            0.4451       0.1813        2.049401   0.070574   \n",
       "1           8.40            0.5768       0.2099        3.109590   0.101681   \n",
       "2           7.54            0.5918       0.3248        3.673744   0.072416   \n",
       "3           5.39            0.4201       0.3131        3.371815   0.072755   \n",
       "4           6.51            0.5675       0.1940        4.404723   0.066379   \n",
       "\n",
       "   free sulfur dioxide  total sulfur dioxide  density    pH  sulphates  \\\n",
       "0            16.593818                 42.27   0.9982  3.27       0.71   \n",
       "1            22.555519                 16.01   0.9960  3.35       0.57   \n",
       "2             9.316866                 35.52   0.9990  3.31       0.64   \n",
       "3            18.212300                 41.97   0.9945  3.34       0.55   \n",
       "4             9.360591                 46.27   0.9925  3.27       0.45   \n",
       "\n",
       "   alcohol  quality  \n",
       "0     8.64        7  \n",
       "1    10.03        8  \n",
       "2     9.23        8  \n",
       "3    14.07        9  \n",
       "4    11.49        8  "
      ]
     },
     "execution_count": 2,
     "metadata": {},
     "output_type": "execute_result"
    }
   ],
   "source": [
    "import scipy.stats as st\n",
    "import pandas as pd\n",
    "import matplotlib.pyplot as plt\n",
    "from statsmodels.stats.weightstats import ztest\n",
    "from statsmodels.stats.proportion import proportions_ztest\n",
    "\n",
    "df = pd.read_csv('anggur.csv')\n",
    "df.head()"
   ]
  },
  {
   "attachments": {},
   "cell_type": "markdown",
   "metadata": {},
   "source": [
    "### <b> a. Nilai rata-rata pH di atas 3.29? </b>\n",
    "$H_{0} : \\mu  = 3.29 \\\\ $ \n",
    "$H_{1} : \\mu  > 3.29 \\\\$\n",
    " Dengan $ \\alpha = 0.05 $\n",
    "\n",
    "Uji statistik dilakukan dengan one tailed test karena $ \\mu > 7 $. Dan daerah kritis $ z > z_{\\alpha} $\n",
    "Untuk menghitung nilai  z dengan  rumus $$z = \\frac{(X - \\mu_{0})}{\\sigma / \\sqrt{n} }$$\n",
    "\n",
    "$H_{0}$ ditolak ketika $ z > z_{\\alpha} $ dan $p < \\alpha $"
   ]
  },
  {
   "cell_type": "code",
   "execution_count": 3,
   "metadata": {},
   "outputs": [
    {
     "name": "stdout",
     "output_type": "stream",
     "text": [
      "Nilai z adalah 4.104\n",
      "Nilai z_alpha adalah 1.645\n",
      "Nilai p adalah 0.0\n"
     ]
    },
    {
     "data": {
      "image/png": "[encoded data removed]",
      "text/plain": [
       "<Figure size 1200x600 with 1 Axes>"
      ]
     },
     "metadata": {},
     "output_type": "display_data"
    }
   ],
   "source": [
    "miu = 3.29\n",
    "alpha = 0.05\n",
    "\n",
    "z, p = ztest(df[\"pH\"], value=miu)\n",
    "\n",
    "za = st.norm.ppf(1-alpha)\n",
    "\n",
    "print(f\"Nilai z adalah {round(z, 3)}\")\n",
    "print(f\"Nilai z_alpha adalah {round(za, 3)}\")\n",
    "print(f\"Nilai p adalah {round(p, 3)}\")\n",
    "df[\"pH\"].plot(kind= \"box\", figsize=(12,6))\n",
    "plt.title=(\"pH\")\n",
    "plt.show()"
   ]
  },
  {
   "attachments": {},
   "cell_type": "markdown",
   "metadata": {},
   "source": [
    "Berdasarkan box plot diatas, dapat disimpulkan bahwa <b> rata-rata pH lebih dari 3.29 </b> karena nilai z lebih  dari $z_{\\alpha}$ dan p kurang dari $\\alpha$"
   ]
  },
  {
   "attachments": {},
   "cell_type": "markdown",
   "metadata": {},
   "source": [
    "#### <b> b. Nilai rata-rata Residual Sugar tidak sama dengan 2.50? </b>\n",
    "$H_{0} : \\mu  = 2.50 \\\\ $ \n",
    "$H_{1} : \\mu  \\neq 2.50 \\\\$\n",
    "Dengan $ \\alpha = 0.05 $\n",
    "\n",
    "Uji statistik dilakukan dengan two tailed test karena harus mengecek bagian kanan dan kiri dengan ketentuan $ \\mu > 2.50 $ dan $ z > z_{\\alpha / 2} $, serta $ \\mu < 2.50 $ dan $ z < -z_{\\alpha / 2} $  \n",
    "Untuk menghitung nilai  z dengan  rumus $$z = \\frac{(\\bar{x} - \\mu_{0})}{\\sigma / \\sqrt{n} }$$\n",
    "\n",
    "$H_{0}$ ditolak ketika $ z > z_{\\alpha / 2} $ atau $ z < -z_{\\alpha / 2} $ dan $p < \\alpha $"
   ]
  },
  {
   "cell_type": "code",
   "execution_count": 4,
   "metadata": {},
   "outputs": [
    {
     "name": "stdout",
     "output_type": "stream",
     "text": [
      "Nilai z adalah 2.148\n",
      "Nilai z_alpha/2 adalah 1.96\n",
      "Nilai p adalah 0.032\n"
     ]
    },
    {
     "data": {
      "image/png": "[encoded data removed]",
      "text/plain": [
       "<Figure size 1200x600 with 1 Axes>"
      ]
     },
     "metadata": {},
     "output_type": "display_data"
    }
   ],
   "source": [
    "miu = 2.5\n",
    "alpha = 0.05\n",
    "\n",
    "#calculate z and p using ztest module\n",
    "z, p = ztest(df[\"residual sugar\"], value= miu)\n",
    "\n",
    "#calculate z_alpha\n",
    "z_a = st.norm.ppf(1- alpha / 2)\n",
    "\n",
    "print(f\"Nilai z adalah {round(z, 3)}\")\n",
    "print(f\"Nilai z_alpha/2 adalah {round(z_a, 3)}\")\n",
    "print(f\"Nilai p adalah {round(p, 3)}\")\n",
    "df[\"residual sugar\"].plot(kind= \"box\", figsize= (12, 6))\n",
    "plt.title = (\"Residual Sugar\")\n",
    "plt.show()"
   ]
  },
  {
   "attachments": {},
   "cell_type": "markdown",
   "metadata": {},
   "source": [
    "Berdasarkan hasil diatas, dapat disimpulkan bahwa <b> rata-rata residual sugar tidak sama dengan 2.50 </b> dikarenakan nilai z lebih  dari $z_{\\alpha / 2}$ dan p kurang dari $\\alpha$"
   ]
  },
  {
   "attachments": {},
   "cell_type": "markdown",
   "metadata": {},
   "source": [
    "#### <b> c. Nilai rata-rata 150 baris pertama kolom sulphates bukan 0.65? </b>\n",
    "$H_{0} : \\mu  = 0.65 \\\\ $ \n",
    "$H_{1} : \\mu  \\neq 0.65 \\\\$\n",
    "Dengan $ \\alpha = 0.05 $\n",
    "\n",
    "Uji statistik dilakukan dengan two tailed test karena harus mengecek bagian kanan dan kiri dengan ketentuan $ \\mu > 0.65 $ dan $ z > z_{\\alpha / 2} $, serta $ \\mu < 0.65 $ dan $ z < -z_{\\alpha / 2} $  \n",
    "Untuk menghitung nilai  z dengan  rumus $$z = \\frac{(\\bar{x} - \\mu_{0})}{\\sigma / \\sqrt{n} }$$\n",
    "\n",
    "$H_{0}$ ditolak ketika $ z > z_{\\alpha / 2} $ atau $ z < -z_{\\alpha / 2} $ dan $p < \\alpha $"
   ]
  },
  {
   "cell_type": "code",
   "execution_count": 5,
   "metadata": {},
   "outputs": [
    {
     "name": "stdout",
     "output_type": "stream",
     "text": [
      "Nilai z adalah -4.965\n",
      "Nilai z_alpha/2 adalah 1.96\n",
      "Nilai p adalah 0.0\n"
     ]
    },
    {
     "data": {
      "image/png": "[encoded data removed]",
      "text/plain": [
       "<Figure size 1200x600 with 1 Axes>"
      ]
     },
     "metadata": {},
     "output_type": "display_data"
    }
   ],
   "source": [
    "miu = 0.65\n",
    "alpha = 0.05\n",
    "\n",
    "#calculate z and p using ztest module\n",
    "z, p = ztest(df[\"sulphates\"].head(150), value=miu)\n",
    "\n",
    "#calculate z_alpha/2\n",
    "za = st.norm.ppf(1 - alpha / 2)\n",
    "\n",
    "print(f\"Nilai z adalah {round(z, 3)}\")\n",
    "print(f\"Nilai z_alpha/2 adalah {round(za, 3)}\")\n",
    "print(f\"Nilai p adalah {round(p, 3)}\")\n",
    "df[\"sulphates\"].plot(kind= \"box\", figsize= (12, 6))\n",
    "plt.title = (\"sulphates\")\n",
    "plt.show()"
   ]
  },
  {
   "attachments": {},
   "cell_type": "markdown",
   "metadata": {},
   "source": [
    "Berdasarkan hasil diatas, nilai z <  dari $ z_{\\alpha / 2} $ sehingga dapat disimpulkan bahwa <b> nilai rata-rata 150 baris pertama kolom sulphates bukan 0.65 </b>"
   ]
  },
  {
   "attachments": {},
   "cell_type": "markdown",
   "metadata": {},
   "source": [
    "#### <b> d. Nilai rata-rata total sulfur dioxide di bawah 35? </b>\n",
    "\n",
    "$H_{0} : \\mu  = 35 \\\\ $ \n",
    "$H_{1} : \\mu  < 35 \\\\$\n",
    "Dengan $ \\alpha = 0.05 $\n",
    "\n",
    "Uji statistik dilakukan dengan one tailed test karena $ \\mu < 35 $. Dan daerah kritis $ z < -z_{\\alpha} $\n",
    "Untuk menghitung nilai  z dengan  rumus $$z = \\frac{(X - \\mu_{0})}{\\sigma / \\sqrt{n} }$$\n",
    "\n",
    "$H_{0}$ ditolak ketika $ z < -z_{\\alpha} $ dan $p < \\alpha $"
   ]
  },
  {
   "cell_type": "code",
   "execution_count": 3,
   "metadata": {},
   "outputs": [
    {
     "name": "stdout",
     "output_type": "stream",
     "text": [
      "Nilai z adalah 16.786\n",
      "Nilai -z_alpha adalah -1.645\n",
      "Nilai p adalah 0.0\n"
     ]
    },
    {
     "data": {
      "image/png": "[encoded data removed]",
      "text/plain": [
       "<Figure size 1200x600 with 1 Axes>"
      ]
     },
     "metadata": {},
     "output_type": "display_data"
    }
   ],
   "source": [
    "miu = 35\n",
    "alpha = 0.05\n",
    "\n",
    "#calculate z and p using ztest module\n",
    "z, p = ztest(df[\"total sulfur dioxide\"], value= miu)\n",
    "\n",
    "#calculate z_alpha\n",
    "za = st.norm.ppf(1-alpha)\n",
    "\n",
    "print(f\"Nilai z adalah {round(z, 3)}\")\n",
    "print(f\"Nilai -z_alpha adalah {round(-1 * za, 3)}\")\n",
    "print(f\"Nilai p adalah {round(p, 4)}\")\n",
    "df[\"total sulfur dioxide\"].plot(kind= \"box\", figsize= (12,6))\n",
    "plt.title=(\"total sulfur dioxide\")\n",
    "plt.show()"
   ]
  },
  {
   "attachments": {},
   "cell_type": "markdown",
   "metadata": {},
   "source": [
    "Berdasarkan perhitungan diatas, dapat disimpulkan <b> rata-rata total sulfur dioxide dibawah 35 </b> karena nilai z yang lebih dari $z_{\\alpha}$"
   ]
  },
  {
   "attachments": {},
   "cell_type": "markdown",
   "metadata": {},
   "source": [
    "#### <b> e. Proporsi nilai total Sulfat Dioxide yang lebih dari 40, adalah tidak sama dengan 50% ? </b>\n",
    "$H_{0} : p = 0.5 \\\\ $ \n",
    "$H_{1} : p \\neq 0.5 \\\\$\n",
    "Dengan $ \\alpha = 0.05 $\n",
    "\n",
    "Uji statistik dilakukan dengan one tailed test karena p > 0.5. Dan daerah kritis $ z > z_{\\alpha/2} $ dan $ z < -z_{\\alpha/2} $\n",
    "Untuk menghitung nilai  z dengan  rumus $$z = \\frac{(\\hat{p} - p_{0})}{\\sqrt{p_{0}q_{0}/n} }$$\n",
    "\n",
    "$H_{0}$ ditolak ketika $ z > z_{\\alpha / 2} $ atau $ z < -z_{\\alpha / 2} $ dan $p < \\alpha $"
   ]
  },
  {
   "cell_type": "code",
   "execution_count": 5,
   "metadata": {},
   "outputs": [
    {
     "name": "stdout",
     "output_type": "stream",
     "text": [
      "Nilai z adalah 0.759\n",
      "Nilai z_alpha/2 adalah 1.96\n",
      "Nilai p adalah 0.448\n"
     ]
    },
    {
     "data": {
      "image/png": "[encoded data removed]",
      "text/plain": [
       "<Figure size 1200x600 with 1 Axes>"
      ]
     },
     "metadata": {},
     "output_type": "display_data"
    }
   ],
   "source": [
    "p0 = 0.5\n",
    "alpha = 0.05\n",
    "\n",
    "tsd_great_40 = len(df[df[\"total sulfur dioxide\"] > 40])\n",
    "\n",
    "z, p = proportions_ztest(tsd_great_40, len(df), value = p0, prop_var = p0)\n",
    "za = st.norm.ppf(1 - alpha/2)\n",
    "\n",
    "print(f\"Nilai z adalah {round(z, 3)}\")\n",
    "print(f\"Nilai z_alpha/2 adalah {round(za, 3)}\")\n",
    "print(f\"Nilai p adalah {round(p, 3)}\")\n",
    "df[\"total sulfur dioxide\"].plot(kind= \"box\", figsize= (12, 6))\n",
    "plt.title = (\"total sulfur dioxide\")\n",
    "plt.show()"
   ]
  },
  {
   "attachments": {},
   "cell_type": "markdown",
   "metadata": {},
   "source": [
    "Dapat disimpulkan bahwa <b> nilai total sulfat dioxide yang lebih dari 40 adalah sama dengan 50% </b>. Hal itu disebabkan karena nilai z yang kurang dari $z_{\\alpha / 2}$"
   ]
  }
 ],
 "metadata": {
  "kernelspec": {
   "display_name": "Python 3",
   "language": "python",
   "name": "python3"
  },
  "language_info": {
   "codemirror_mode": {
    "name": "ipython",
    "version": 3
   },
   "file_extension": ".py",
   "mimetype": "text/x-python",
   "name": "python",
   "nbconvert_exporter": "python",
   "pygments_lexer": "ipython3",
   "version": "3.10.10"
  },
  "orig_nbformat": 4
 },
 "nbformat": 4,
 "nbformat_minor": 2
}
